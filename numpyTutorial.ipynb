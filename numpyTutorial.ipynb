{
 "cells": [
  {
   "cell_type": "code",
   "execution_count": 2,
   "id": "c0893fbd",
   "metadata": {},
   "outputs": [],
   "source": [
    "# Import Library\n",
    "\n",
    "import numpy as np"
   ]
  },
  {
   "cell_type": "markdown",
   "id": "3840fdcd",
   "metadata": {},
   "source": [
    "NumPy is short for \"Numerical Python\". NumPy is used for working with arrays and matrices.\n",
    "\n",
    "## Creating Numpy Array from List"
   ]
  },
  {
   "cell_type": "code",
   "execution_count": 3,
   "id": "a735108b",
   "metadata": {
    "scrolled": true
   },
   "outputs": [
    {
     "name": "stdout",
     "output_type": "stream",
     "text": [
      "\n",
      "List : [1, 2, 3, 4, 5]\n",
      "\n",
      "Array : [1 2 3 4 5]\n"
     ]
    }
   ],
   "source": [
    "#Python List\n",
    "L = [1, 2, 3, 4, 5]\n",
    "print(\"\\nList :\",L)\n",
    "\n",
    "#Numpy Array\n",
    "A = np.array([1, 2, 3, 4, 5])\n",
    "print(\"\\nArray :\",A)"
   ]
  },
  {
   "cell_type": "code",
   "execution_count": 4,
   "id": "da1670e2",
   "metadata": {},
   "outputs": [
    {
     "name": "stdout",
     "output_type": "stream",
     "text": [
      "\n",
      "Printing 2D array:\n",
      " [[1 2 3]\n",
      " [4 5 6]]\n",
      "\n",
      "Printing 3D array:\n",
      " [[[ 1  2  3]\n",
      "  [ 4  5  6]]\n",
      "\n",
      " [[ 7  8  9]\n",
      "  [10 11 12]]]\n"
     ]
    }
   ],
   "source": [
    "#Multi-dimensional Arrays\n",
    "\n",
    "AA = np.array([[1, 2, 3], [4, 5, 6]])\n",
    "print(\"\\nPrinting 2D array:\\n\", AA)\n",
    "\n",
    "AAA = np.array([[[1, 2, 3], [4, 5, 6]], [[7, 8, 9], [10, 11, 12]]])\n",
    "print(\"\\nPrinting 3D array:\\n\",AAA)"
   ]
  },
  {
   "cell_type": "code",
   "execution_count": 74,
   "id": "15053c80",
   "metadata": {},
   "outputs": [
    {
     "name": "stdout",
     "output_type": "stream",
     "text": [
      "\n",
      "Dimensions of AA: 2\n",
      "\n",
      "Dimensions of AAA: 3\n"
     ]
    }
   ],
   "source": [
    "# check array dimensions\n",
    "\n",
    "print(\"\\nDimensions of AA:\", AA.ndim)\n",
    "print(\"\\nDimensions of AAA:\", AAA.ndim)"
   ]
  },
  {
   "cell_type": "markdown",
   "id": "65bf6900",
   "metadata": {},
   "source": [
    "# Indexing \n",
    "\n",
    "The indexes in NumPy arrays start with 0.\n",
    "The first element has index 0."
   ]
  },
  {
   "cell_type": "code",
   "execution_count": 43,
   "id": "c444d2f0",
   "metadata": {},
   "outputs": [
    {
     "name": "stdout",
     "output_type": "stream",
     "text": [
      "\n",
      "First element of A: 1\n",
      "\n",
      "Element in the first row & second column of AA: 2\n",
      "\n",
      "Element in the second row & first column of AA: 4\n",
      "\n",
      "Third element of the second array of the first array in AAA: 6\n"
     ]
    }
   ],
   "source": [
    "#Indexing\n",
    "\n",
    "A = np.array([1, 2, 3, 4])\n",
    "print(\"\\nFirst element of A:\", A[0]) \n",
    "\n",
    "AA = np.array([[1, 2, 3], [4, 5, 6]])\n",
    "\n",
    "print(\"\\nElement in the first row & second column of AA:\", AA[0][1]) \n",
    "print(\"\\nElement in the second row & first column of AA:\",AA[1][0]) \n",
    "\n",
    "AAA = np.array([[[1, 2, 3], [4, 5, 6]], [[7, 8, 9], [10, 11, 12]]])\n",
    "print(\"\\nThird element of the second array of the first array in AAA:\",AAA[0][1][2]) "
   ]
  },
  {
   "cell_type": "markdown",
   "id": "c18e6a5c",
   "metadata": {},
   "source": [
    "# Slicing\n",
    "\n",
    "Slicing in taking elements from one given index to another given index: [start:end]\n",
    "\n",
    "The result includes the start index, but excludes the end index.\n",
    "\n",
    "If we don't pass start index, its considered 0.\n",
    "\n",
    "If we don't pass the end index, its considered length of array in that dimension."
   ]
  },
  {
   "cell_type": "code",
   "execution_count": 36,
   "id": "05eb9603",
   "metadata": {},
   "outputs": [
    {
     "name": "stdout",
     "output_type": "stream",
     "text": [
      "\n",
      "Slice from first element/ index 0 to fifth element/ index 4: [1 2 3 4 5]\n",
      "\n",
      "Slice from second element/ index 1 to fifth element/ index 4: [2 3 4 5]\n",
      "\n",
      "Slice from index 4 to the end: [5 6 7 8]\n",
      "\n",
      "Slice from start to index 3: [1 2 3 4]\n"
     ]
    }
   ],
   "source": [
    "#Slicing\n",
    "\n",
    "A = np.array([1, 2, 3, 4, 5, 6, 7, 8])\n",
    "\n",
    "print(\"\\nSlice from first element/ index 0 to fifth element/ index 4:\", A[0:5])\n",
    "\n",
    "print(\"\\nSlice from second element/ index 1 to fifth element/ index 4:\", A[1:5])\n",
    "\n",
    "print(\"\\nSlice from index 4 to the end:\", A[4:])\n",
    "\n",
    "print(\"\\nSlice from start to index 3:\", A[:4])"
   ]
  },
  {
   "cell_type": "code",
   "execution_count": 50,
   "id": "dd9be219",
   "metadata": {},
   "outputs": [
    {
     "name": "stdout",
     "output_type": "stream",
     "text": [
      "[[ 1  2  3  4  5]\n",
      " [ 6  7  8  9 10]]\n",
      "\n",
      "Select second row, slice from index 1 to index 3: \n",
      " [7 8 9]\n",
      "\n",
      "Slice third column: \n",
      " [3 8]\n",
      "\n",
      "Select rows 1 and 2, Slice third column: \n",
      " [3 8]\n",
      "\n",
      "Select rows 1 and 2, slice columns 2 to 4: \n",
      " [[2 3 4]\n",
      " [7 8 9]]\n"
     ]
    }
   ],
   "source": [
    "#Slicing- 2D Array\n",
    "\n",
    "AA = np.array([[1, 2, 3, 4, 5], [6, 7, 8, 9, 10]])\n",
    "\n",
    "print(AA)\n",
    "\n",
    "print(\"\\nSelect second row, slice from index 1 to index 3: \\n\", AA[1, 1:4])\n",
    "\n",
    "print(\"\\nSlice third column: \\n\", AA[:, 2])\n",
    "\n",
    "print(\"\\nSelect rows 1 and 2, Slice third column: \\n\", AA[0:2, 2])\n",
    "\n",
    "print(\"\\nSelect rows 1 and 2, slice columns 2 to 4: \\n\", AA[0:2, 1:4])"
   ]
  },
  {
   "cell_type": "markdown",
   "id": "c77396fd",
   "metadata": {},
   "source": [
    "# Array Shapes\n",
    "The shape of an array is the number of elements in each dimension."
   ]
  },
  {
   "cell_type": "code",
   "execution_count": 64,
   "id": "e881e411",
   "metadata": {},
   "outputs": [
    {
     "name": "stdout",
     "output_type": "stream",
     "text": [
      "[[1 2 3 4]\n",
      " [5 6 7 8]]\n",
      "\n",
      "shape of array : (2, 4)\n"
     ]
    }
   ],
   "source": [
    "#shape\n",
    "\n",
    "AA = np.array([[1, 2, 3, 4], [5, 6, 7, 8]])\n",
    "print(AA)\n",
    "\n",
    "print('\\nshape of array :', AA.shape)"
   ]
  },
  {
   "cell_type": "markdown",
   "id": "5a982b75",
   "metadata": {},
   "source": [
    "## Reshaping Arrays\n",
    "By reshaping we can add or remove dimensions or change number of elements in each dimension."
   ]
  },
  {
   "cell_type": "code",
   "execution_count": 65,
   "id": "7025b349",
   "metadata": {},
   "outputs": [
    {
     "name": "stdout",
     "output_type": "stream",
     "text": [
      "\n",
      "shape of array A: (12,)\n",
      "\n",
      "Reshaped Array:\n",
      " [[ 1  2  3]\n",
      " [ 4  5  6]\n",
      " [ 7  8  9]\n",
      " [10 11 12]]\n",
      "\n",
      "shape of array new_A: (4, 3)\n"
     ]
    }
   ],
   "source": [
    "#Reshape\n",
    "\n",
    "A = np.array([1, 2, 3, 4, 5, 6, 7, 8, 9, 10, 11, 12])\n",
    "print('\\nshape of array A:', A.shape)\n",
    "\n",
    "new_A = A.reshape(4, 3)\n",
    "\n",
    "print('\\nReshaped Array:\\n', new_A)\n",
    "print('\\nshape of array new_A:', new_A.shape)"
   ]
  },
  {
   "cell_type": "code",
   "execution_count": 88,
   "id": "0cf5d993",
   "metadata": {},
   "outputs": [
    {
     "name": "stdout",
     "output_type": "stream",
     "text": [
      "This is a 1D array with 5 elements. [1 2 3 4 5]\n",
      "\n",
      "Dimensions of A: 1\n",
      "\n",
      "reshape(5,1): we get a 2D array with 5 rows and 1 column\n",
      " [[1]\n",
      " [2]\n",
      " [3]\n",
      " [4]\n",
      " [5]]\n",
      "\n",
      "Though there is a single column, the array dimension is 2-D\n",
      "\n",
      "Dimensions of A1: 2\n",
      "\n",
      "reshape(1,5): we get a 2D array with 1 row and 5 columns\n",
      " [[1 2 3 4 5]]\n",
      "\n",
      "Though there is a single row, the array dimension is 2-D\n",
      "\n",
      "Dimensions of A2: 2\n"
     ]
    }
   ],
   "source": [
    "A = np.array([1, 2, 3, 4, 5])\n",
    "print(\"This is a 1D array with 5 elements.\",A)\n",
    "print(\"\\nDimensions of A:\", A.ndim)\n",
    "\n",
    "A1 = A.reshape(5,1)\n",
    "print(\"\\nreshape(5,1): we get a 2D array with 5 rows and 1 column\\n\",A1)\n",
    "print(\"\\nThough there is a single column, the array dimension is 2-D\")\n",
    "print(\"\\nDimensions of A1:\", A1.ndim)\n",
    "\n",
    "A2 = A.reshape(1,5)\n",
    "print(\"\\nreshape(1,5): we get a 2D array with 1 row and 5 columns\\n\",A2)\n",
    "print(\"\\nThough there is a single row, the array dimension is 2-D\")\n",
    "print(\"\\nDimensions of A2:\", A2.ndim)\n",
    "\n"
   ]
  },
  {
   "cell_type": "code",
   "execution_count": 89,
   "id": "32d18f77",
   "metadata": {},
   "outputs": [
    {
     "name": "stdout",
     "output_type": "stream",
     "text": [
      "\n",
      "reshape(-1,1):We can specify column as 1, leaving rows number open, denoted by -1\n",
      " [[1]\n",
      " [2]\n",
      " [3]\n",
      " [4]\n",
      " [5]]\n",
      "\n",
      "reshape(1,-1):We can specify row as 1, leaving column number open, denoted by -1\n",
      " [[1 2 3 4 5]]\n"
     ]
    }
   ],
   "source": [
    "#Reshape(-1,1)\n",
    "\n",
    "A3 = A.reshape(-1,1)\n",
    "print(\"\\nreshape(-1,1):We can specify column as 1, leaving rows number open, denoted by -1\\n\", A3)\n",
    "\n",
    "\n",
    "A4 = A.reshape(1,-1)\n",
    "print(\"\\nreshape(1,-1):We can specify row as 1, leaving column number open, denoted by -1\\n\",A4)"
   ]
  }
 ],
 "metadata": {
  "kernelspec": {
   "display_name": "Python 3 (ipykernel)",
   "language": "python",
   "name": "python3"
  },
  "language_info": {
   "codemirror_mode": {
    "name": "ipython",
    "version": 3
   },
   "file_extension": ".py",
   "mimetype": "text/x-python",
   "name": "python",
   "nbconvert_exporter": "python",
   "pygments_lexer": "ipython3",
   "version": "3.9.13"
  }
 },
 "nbformat": 4,
 "nbformat_minor": 5
}
